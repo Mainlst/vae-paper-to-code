{
 "cells": [
  {
   "cell_type": "markdown",
   "id": "39c71b78",
   "metadata": {},
   "source": [
    "# VAE paper-to-code ワークフロー\n",
    "\n",
    "このノートブックは、論文のVAE実装を素早く動かしながら理解するためのチェックリスト付きハブです。上から順に実行していけば、環境構築から可視化・拡張までを一貫して進められます。"
   ]
  },
  {
   "cell_type": "markdown",
   "id": "3d239d61",
   "metadata": {},
   "source": [
    "## チェックリスト概要\n",
    "- [ ] 1. 環境準備：Python + PyTorch + データセット\n",
    "- [ ] 2. コード最小実装を理解する（Encoder / Reparameterization / Decoder / ELBO）\n",
    "- [ ] 3. 学習ループを走らせて loss を確認する\n",
    "- [ ] 4. 生成画像・再構成・潜在可視化を保存する\n",
    "- [ ] 5. ハイパーパラメータを変えて比較・記録する\n",
    "- [ ] 6. 結果をドキュメント化し共有する"
   ]
  },
  {
   "cell_type": "markdown",
   "id": "379a5f90",
   "metadata": {},
   "source": [
    "## 1. 環境準備\n",
    "GPU (RTX3070/4070 など) を持つ環境で PyTorch が CUDA を正しく認識しているかをまず確認します。ノートブックの実行前に `python -m venv` や conda などで仮想環境を作成しておくと管理が楽です。"
   ]
  },
  {
   "cell_type": "code",
   "execution_count": 1,
   "id": "cc123c85",
   "metadata": {},
   "outputs": [
    {
     "name": "stdout",
     "output_type": "stream",
     "text": [
      "PROJECT_ROOT: /home/user/vae-paper-to-code/notebooks\n",
      "Exists src?: False\n",
      "DATA_DIR: /home/user/vae-paper-to-code/notebooks/data\n",
      "REPORTS_DIR: /home/user/vae-paper-to-code/notebooks/reports\n"
     ]
    }
   ],
   "source": [
    "from pathlib import Path\n",
    "import os\n",
    "\n",
    "PROJECT_ROOT = Path.cwd()\n",
    "if PROJECT_ROOT.name != \"vae-paper-to-code\" and (PROJECT_ROOT / \"vae-paper-to-code\").exists():\n",
    "    PROJECT_ROOT = PROJECT_ROOT / \"vae-paper-to-code\"\n",
    "PROJECT_ROOT = PROJECT_ROOT.resolve()\n",
    "DATA_DIR = PROJECT_ROOT / \"data\"\n",
    "REPORTS_DIR = PROJECT_ROOT / \"reports\"\n",
    "\n",
    "print(f\"PROJECT_ROOT: {PROJECT_ROOT}\")\n",
    "print(f\"Exists src?: {(PROJECT_ROOT / 'src').exists()}\")\n",
    "print(f\"DATA_DIR: {DATA_DIR}\")\n",
    "print(f\"REPORTS_DIR: {REPORTS_DIR}\")"
   ]
  },
  {
   "cell_type": "code",
   "execution_count": 2,
   "id": "5b584173",
   "metadata": {},
   "outputs": [
    {
     "name": "stdout",
     "output_type": "stream",
     "text": [
      "Python  : 3.11.13\n",
      "PyTorch : 2.8.0+cu128\n",
      "CUDA    : True\n",
      "  - GPU0: NVIDIA GeForce RTX 3070\n"
     ]
    }
   ],
   "source": [
    "import platform\n",
    "import torch\n",
    "\n",
    "print(f\"Python  : {platform.python_version()}\")\n",
    "print(f\"PyTorch : {torch.__version__}\")\n",
    "print(f\"CUDA    : {torch.cuda.is_available()}\")\n",
    "if torch.cuda.is_available():\n",
    "    for idx in range(torch.cuda.device_count()):\n",
    "        print(f\"  - GPU{idx}: {torch.cuda.get_device_name(idx)}\")\n",
    "else:\n",
    "    print(\"GPUが利用できません。CPUでの実行は可能ですが時間がかかります。\")"
   ]
  },
  {
   "cell_type": "markdown",
   "id": "8dc1bca5",
   "metadata": {},
   "source": [
    "### 追加ライブラリのインストール (必要に応じて)\n",
    "依存関係が未インストールの場合は、以下のセルで `pip` を実行します。既に整っていればスキップしてください。"
   ]
  },
  {
   "cell_type": "code",
   "execution_count": 3,
   "id": "d6658408",
   "metadata": {},
   "outputs": [
    {
     "name": "stdout",
     "output_type": "stream",
     "text": [
      "必要に応じて上のコメントを外して実行してください。\n"
     ]
    }
   ],
   "source": [
    "import sys\n",
    "import subprocess\n",
    "\n",
    "# 実行例: requirements.txt を一括インストール\n",
    "# subprocess.run([sys.executable, \"-m\", \"pip\", \"install\", \"-r\", str(PROJECT_ROOT / \"requirements.txt\")], check=True)\n",
    "\n",
    "print(\"必要に応じて上のコメントを外して実行してください。\")"
   ]
  },
  {
   "cell_type": "markdown",
   "id": "bc8dad47",
   "metadata": {},
   "source": [
    "## 2. データセットを準備\n",
    "MNIST (論文と同じ小規模データセット) をローカルにダウンロードし、存在を確認します。トーチビジョンが使えない場合はローカル実装 (`src/utils/mnist.py`) に自動でフォールバックします。"
   ]
  },
  {
   "cell_type": "code",
   "execution_count": 4,
   "id": "abd17678",
   "metadata": {},
   "outputs": [
    {
     "name": "stderr",
     "output_type": "stream",
     "text": [
      "100%|██████████| 9.91M/9.91M [00:10<00:00, 955kB/s] \n",
      "\n",
      "100%|██████████| 28.9k/28.9k [00:00<00:00, 171kB/s]\n",
      "\n",
      "100%|██████████| 1.65M/1.65M [00:01<00:00, 1.63MB/s]\n",
      "\n",
      "100%|██████████| 4.54k/4.54k [00:00<00:00, 6.62MB/s]"
     ]
    },
    {
     "name": "stdout",
     "output_type": "stream",
     "text": [
      "train size: 60000, test size: 10000, input shape: torch.Size([1, 28, 28])\n"
     ]
    },
    {
     "name": "stderr",
     "output_type": "stream",
     "text": [
      "\n"
     ]
    }
   ],
   "source": [
    "from typing import Tuple\n",
    "\n",
    "try:\n",
    "    from torchvision import datasets, transforms\n",
    "    USE_TORCHVISION = True\n",
    "except Exception as e:\n",
    "    print(f\"torchvision が利用できないためローカルローダーを使用します: {e}\")\n",
    "    USE_TORCHVISION = False\n",
    "\n",
    "if USE_TORCHVISION:\n",
    "    transform = transforms.Compose([transforms.ToTensor()])\n",
    "    train_ds = datasets.MNIST(root=str(DATA_DIR), train=True, download=True, transform=transform)\n",
    "    test_ds = datasets.MNIST(root=str(DATA_DIR), train=False, download=True, transform=transform)\n",
    "    input_shape = train_ds[0][0].shape\n",
    "else:\n",
    "    from src.utils.mnist import MNISTLocal\n",
    "    train_ds = MNISTLocal(root=str(DATA_DIR), train=True)\n",
    "    test_ds = MNISTLocal(root=str(DATA_DIR), train=False)\n",
    "    input_shape = train_ds[0][0].shape\n",
    "\n",
    "print(f\"train size: {len(train_ds)}, test size: {len(test_ds)}, input shape: {input_shape}\")"
   ]
  },
  {
   "cell_type": "code",
   "execution_count": 5,
   "id": "80ede530",
   "metadata": {},
   "outputs": [
    {
     "name": "stderr",
     "output_type": "stream",
     "text": [
      "/home/user/micromamba/envs/vae/lib/python3.11/site-packages/IPython/core/pylabtools.py:170: UserWarning: Glyph 12469 (\\N{KATAKANA LETTER SA}) missing from font(s) DejaVu Sans.\n",
      "  fig.canvas.print_figure(bytes_io, **kw)\n",
      "/home/user/micromamba/envs/vae/lib/python3.11/site-packages/IPython/core/pylabtools.py:170: UserWarning: Glyph 12531 (\\N{KATAKANA LETTER N}) missing from font(s) DejaVu Sans.\n",
      "  fig.canvas.print_figure(bytes_io, **kw)\n",
      "/home/user/micromamba/envs/vae/lib/python3.11/site-packages/IPython/core/pylabtools.py:170: UserWarning: Glyph 12503 (\\N{KATAKANA LETTER PU}) missing from font(s) DejaVu Sans.\n",
      "  fig.canvas.print_figure(bytes_io, **kw)\n",
      "/home/user/micromamba/envs/vae/lib/python3.11/site-packages/IPython/core/pylabtools.py:170: UserWarning: Glyph 12523 (\\N{KATAKANA LETTER RU}) missing from font(s) DejaVu Sans.\n",
      "  fig.canvas.print_figure(bytes_io, **kw)\n",
      "/home/user/micromamba/envs/vae/lib/python3.11/site-packages/IPython/core/pylabtools.py:170: UserWarning: Glyph 26368 (\\N{CJK UNIFIED IDEOGRAPH-6700}) missing from font(s) DejaVu Sans.\n",
      "  fig.canvas.print_figure(bytes_io, **kw)\n",
      "/home/user/micromamba/envs/vae/lib/python3.11/site-packages/IPython/core/pylabtools.py:170: UserWarning: Glyph 21021 (\\N{CJK UNIFIED IDEOGRAPH-521D}) missing from font(s) DejaVu Sans.\n",
      "  fig.canvas.print_figure(bytes_io, **kw)\n",
      "/home/user/micromamba/envs/vae/lib/python3.11/site-packages/IPython/core/pylabtools.py:170: UserWarning: Glyph 12398 (\\N{HIRAGANA LETTER NO}) missing from font(s) DejaVu Sans.\n",
      "  fig.canvas.print_figure(bytes_io, **kw)\n",
      "/home/user/micromamba/envs/vae/lib/python3.11/site-packages/IPython/core/pylabtools.py:170: UserWarning: Glyph 26522 (\\N{CJK UNIFIED IDEOGRAPH-679A}) missing from font(s) DejaVu Sans.\n",
      "  fig.canvas.print_figure(bytes_io, **kw)\n"
     ]
    },
    {
     "data": {
      "image/png": "[encoded data removed]",
      "text/plain": [
       "<Figure size 1200x200 with 8 Axes>"
      ]
     },
     "metadata": {},
     "output_type": "display_data"
    }
   ],
   "source": [
    "import matplotlib.pyplot as plt\n",
    "\n",
    "fig, axes = plt.subplots(1, 8, figsize=(12, 2))\n",
    "for ax, (img, label) in zip(axes, [train_ds[i] for i in range(8)]):\n",
    "    img_to_plot = img.squeeze().numpy()\n",
    "    ax.imshow(img_to_plot, cmap=\"gray\")\n",
    "    ax.axis(\"off\")\n",
    "    ax.set_title(str(label))\n",
    "plt.suptitle(\"MNISTサンプル (最初の8枚)\")\n",
    "plt.show()"
   ]
  },
  {
   "cell_type": "markdown",
   "id": "5c13da22",
   "metadata": {},
   "source": [
    "## 3. コード最小実装の確認\n",
    "既に `src/vae.py` と `src/train.py` に Encoder / Reparameterization / Decoder / ELBO が実装済みです。この節では設定を読み込み、モデル規模をざっくり把握します。詳細を追いたい場合は該当ファイルを VS Code で開いて参照してください。"
   ]
  },
  {
   "cell_type": "code",
   "execution_count": 7,
   "id": "86431235",
   "metadata": {},
   "outputs": [
    {
     "ename": "ModuleNotFoundError",
     "evalue": "No module named 'src'",
     "output_type": "error",
     "traceback": [
      "\u001b[31m---------------------------------------------------------------------------\u001b[39m",
      "\u001b[31mModuleNotFoundError\u001b[39m                       Traceback (most recent call last)",
      "\u001b[36mCell\u001b[39m\u001b[36m \u001b[39m\u001b[32mIn[7]\u001b[39m\u001b[32m, line 2\u001b[39m\n\u001b[32m      1\u001b[39m \u001b[38;5;28;01mfrom\u001b[39;00m\u001b[38;5;250m \u001b[39m\u001b[34;01mdataclasses\u001b[39;00m\u001b[38;5;250m \u001b[39m\u001b[38;5;28;01mimport\u001b[39;00m asdict\n\u001b[32m----> \u001b[39m\u001b[32m2\u001b[39m \u001b[38;5;28;01mfrom\u001b[39;00m\u001b[38;5;250m \u001b[39m\u001b[34;01msrc\u001b[39;00m\u001b[34;01m.\u001b[39;00m\u001b[34;01mvae\u001b[39;00m\u001b[38;5;250m \u001b[39m\u001b[38;5;28;01mimport\u001b[39;00m VAE, VAEConfig\n\u001b[32m      4\u001b[39m cfg = VAEConfig()\n\u001b[32m      5\u001b[39m model = VAE(cfg)\n",
      "\u001b[31mModuleNotFoundError\u001b[39m: No module named 'src'"
     ]
    }
   ],
   "source": [
    "from dataclasses import asdict\n",
    "from src.vae import VAE, VAEConfig\n",
    "\n",
    "cfg = VAEConfig()\n",
    "model = VAE(cfg)\n",
    "print(cfg)\n",
    "print(f\"parameter count: {sum(p.numel() for p in model.parameters()):,}\")"
   ]
  },
  {
   "cell_type": "markdown",
   "id": "16af8fbe",
   "metadata": {},
   "source": [
    "## 4. 学習ジョブのセットアップ\n",
    "ここでハイパーパラメータを定義し、後続のセルでトレーニングを実行します。`device='auto'` にしておくと CUDA → MPS → CPU の順で自動選択されます。"
   ]
  },
  {
   "cell_type": "code",
   "execution_count": null,
   "id": "b46a6df0",
   "metadata": {},
   "outputs": [],
   "source": [
    "TRAINING_CONFIG = {\n",
    "    \"epochs\": 10,\n",
    "    \"batch_size\": 128,\n",
    "    \"latent_dim\": 2,\n",
    "    \"hidden_dim\": 400,\n",
    "    \"loss\": \"bce\",\n",
    "    \"beta\": 1.0,\n",
    "    \"beta_schedule\": \"none\",\n",
    "    \"reduction\": \"mean\",\n",
    "    \"lr\": 1e-3,\n",
    "    \"device\": \"auto\",\n",
    "    \"seed\": 42,\n",
    "    \"project_dir\": \"reports\",\n",
    "    \"group\": \"\",  # 未指定なら自動生成 (mnist-latXX-...)\n",
    "    \"name\": \"\",   # 未指定なら seed{seed} に日付プリフィックスが付く\n",
    "    \"num_workers\": 4,\n",
    "    \"persistent_workers\": False,\n",
    "    \"no_pin\": False,\n",
    "    \"save_weights\": True,\n",
    "    \"wandb\": False,\n",
    "    \"wandb_mode\": \"disabled\",\n",
    "}\n",
    "\n",
    "TRAINING_CONFIG"
   ]
  },
  {
   "cell_type": "code",
   "execution_count": null,
   "id": "4175c219",
   "metadata": {},
   "outputs": [],
   "source": [
    "import json\n",
    "import os\n",
    "import shlex\n",
    "import subprocess\n",
    "from copy import deepcopy\n",
    "\n",
    "def _to_cli_flag(key: str) -> str:\n",
    "    return \"--\" + key.replace(\"_\", \"-\")\n",
    "\n",
    "def run_training(config: dict) -> dict:\n",
    "    args = [\"python\", \"-m\", \"src.train\"]\n",
    "    for key, value in config.items():\n",
    "        if isinstance(value, bool):\n",
    "            if value:\n",
    "                args.append(_to_cli_flag(key))\n",
    "        elif value is None or value == \"\":\n",
    "            continue\n",
    "        else:\n",
    "            args.extend([_to_cli_flag(key), str(value)])\n",
    "\n",
    "    print(\"実行コマンド:\")\n",
    "    print(\" \\\n",
    ",\n",
    ",\n",
    ",\n",
    "\n",
    "\n",
    "    return locate_latest_run(config)\n",
    "\n",
    "def _auto_group_name(config: dict) -> str:\n",
    "    if config.get(\"group\"):\n",
    "        return config[\"group\"]\n",
    "    return (\n",
    "        f\"mnist-lat{config['latent_dim']}-\"\n",
    "        f\"{config.get('loss', 'bce')}\"\n",
    "        f\"-beta{config.get('beta', 1.0):g}-\"\n",
    "        f\"{config.get('beta_schedule', 'none')}-\"\n",
    "        f\"{config.get('reduction', 'mean')}\"\n",
    "    )\n",
    "\n",
    "def locate_latest_run(config: dict) -> dict:\n",
    "    project_dir = config.get(\"project_dir\", \"reports\")\n",
    "    group = _auto_group_name(config)\n",
    "    group_dir = (PROJECT_ROOT / project_dir / group).resolve()\n",
    "    latest_link = group_dir / \"latest\"\n",
    "    run_dir = None\n",
    "    if latest_link.is_symlink():\n",
    "        target = os.readlink(latest_link)\n",
    "        run_dir = (group_dir / target).resolve()\n",
    "    elif latest_link.exists():\n",
    "        target = latest_link.read_text().strip()\n",
    "        candidate = (group_dir / target).resolve()\n",
    "        if candidate.exists():\n",
    "            run_dir = candidate\n",
    "\n",
    "    if run_dir is None:\n",
    "        candidates = sorted(group_dir.glob(\"*/run_meta.json\"), key=lambda p: p.stat().st_mtime, reverse=True)\n",
    "        if candidates:\n",
    "            run_dir = candidates[0].parent\n",
    "\n",
    "    if run_dir is None or not run_dir.exists():\n",
    "        raise FileNotFoundError(\"run_meta.json が見つかりませんでした。コマンドの標準出力をご確認ください。\")\n",
    "\n",
    "    meta_path = run_dir / \"run_meta.json\"\n",
    "    if meta_path.exists():\n",
    "        with open(meta_path, \"r\", encoding=\"utf-8\") as f:\n",
    "            meta = json.load(f)\n",
    "    else:\n",
    "        meta = {\"run_dir\": str(run_dir)}\n",
    "\n",
    "    meta[\"run_dir\"] = str(run_dir)\n",
    "    return meta"
   ]
  },
  {
   "cell_type": "markdown",
   "id": "6b665039",
   "metadata": {},
   "source": [
    "### トレーニングを実行\n",
    "上記設定を確認したら次のセルを実行してください。10エポック (数分) で loss の減少と生成画像を保存できます。GPU が利用できると高速です。"
   ]
  },
  {
   "cell_type": "code",
   "execution_count": null,
   "id": "4392be5b",
   "metadata": {},
   "outputs": [],
   "source": [
    "latest_meta = run_training(TRAINING_CONFIG)\n",
    "latest_meta"
   ]
  },
  {
   "cell_type": "markdown",
   "id": "027a847d",
   "metadata": {},
   "source": [
    "## 5. 結果の可視化\n",
    "トレーニング出力 (`reports/<group>/<run>/`) を読み込み、損失曲線・再構成・生成サンプルを確認します。"
   ]
  },
  {
   "cell_type": "code",
   "execution_count": null,
   "id": "367b63db",
   "metadata": {},
   "outputs": [],
   "source": [
    "import pandas as pd\n",
    "\n",
    "RUN_DIR = Path(latest_meta[\"run_dir\"]).resolve()\n",
    "print(f\"Run dir: {RUN_DIR}\")\n",
    "print(f\"Available entries: {[p.name for p in RUN_DIR.iterdir()]}\")"
   ]
  },
  {
   "cell_type": "code",
   "execution_count": null,
   "id": "23c03cdd",
   "metadata": {},
   "outputs": [],
   "source": [
    "log_path = RUN_DIR / \"curves\" / \"train_log.csv\"\n",
    "df = pd.read_csv(log_path)\n",
    "df.head()"
   ]
  },
  {
   "cell_type": "code",
   "execution_count": null,
   "id": "a5d2e371",
   "metadata": {},
   "outputs": [],
   "source": [
    "plt.figure(figsize=(6, 4))\n",
    "plt.plot(df[\"epoch\"], df[\"recon\"], label=\"recon\")\n",
    "plt.plot(df[\"epoch\"], df[\"kl\"], label=\"kl\")\n",
    "plt.plot(df[\"epoch\"], df[\"total\"], label=\"total\")\n",
    "plt.xlabel(\"Epoch\")\n",
    "plt.ylabel(\"Loss\")\n",
    "plt.title(\"ELBO components\")\n",
    "plt.legend()\n",
    "plt.grid(True)\n",
    "plt.tight_layout()\n",
    "plt.show()"
   ]
  },
  {
   "cell_type": "code",
   "execution_count": null,
   "id": "d7d07b03",
   "metadata": {},
   "outputs": [],
   "source": [
    "from IPython.display import display\n",
    "from PIL import Image\n",
    "\n",
    "def show_latest_image(subdir: str):\n",
    "    target_dir = RUN_DIR / subdir\n",
    "    files = sorted(target_dir.glob(\"*.png\"))\n",
    "    if not files:\n",
    "        print(f\"{subdir} に画像がありませんでした。\")\n",
    "        return\n",
    "    latest = files[-1]\n",
    "    print(f\"{subdir}: {latest.name}\")\n",
    "    display(Image.open(latest))\n",
    "\n",
    "show_latest_image(\"reconstructions\")\n",
    "show_latest_image(\"samples\")\n",
    "show_latest_image(\"traversals\")"
   ]
  },
  {
   "cell_type": "markdown",
   "id": "4d422c09",
   "metadata": {},
   "source": [
    "### 潜在空間の散布図 (latent_dim=2 の場合)\n",
    "チェックポイントを保存している場合は、テストデータをエンコードして潜在空間を可視化できます。"
   ]
  },
  {
   "cell_type": "code",
   "execution_count": null,
   "id": "34836496",
   "metadata": {},
   "outputs": [],
   "source": [
    "import torch\n",
    "from torch.utils.data import DataLoader\n",
    "from src.vae import VAE, VAEConfig\n",
    "\n",
    "ckpts = sorted(RUN_DIR.glob(\"vae_epoch_*.pt\"))\n",
    "if not ckpts:\n",
    "    print(\"チェックポイントが存在しません。TRAINING_CONFIG['save_weights']=True で再学習すると生成されます。\")\n",
    "else:\n",
    "    ckpt_path = ckpts[-1]\n",
    "    print(f\"loading checkpoint: {ckpt_path.name}\")\n",
    "    payload = torch.load(ckpt_path, map_location=\"cpu\")\n",
    "    cfg = VAEConfig(**payload[\"cfg\"])\n",
    "    model = VAE(cfg)\n",
    "    model.load_state_dict(payload[\"model_state\"])\n",
    "    model.eval()\n",
    "\n",
    "    loader = DataLoader(test_ds, batch_size=256, shuffle=False)\n",
    "    zs, ys = [], []\n",
    "    with torch.no_grad():\n",
    "        for x, y in loader:\n",
    "            x = x.view(x.size(0), -1)\n",
    "            mu, logvar = model.encode(x)\n",
    "            zs.append(mu)\n",
    "            ys.append(y)\n",
    "    z_all = torch.cat(zs).cpu().numpy()\n",
    "    y_all = torch.cat(ys).cpu().numpy()\n",
    "\n",
    "    if z_all.shape[1] != 2:\n",
    "        print(f\"latent_dim={z_all.shape[1]} のため 2D 可視化をスキップします。\")\n",
    "    else:\n",
    "        plt.figure(figsize=(5, 5))\n",
    "        scatter = plt.scatter(z_all[:, 0], z_all[:, 1], c=y_all, cmap=\"tab10\", s=8, alpha=0.6)\n",
    "        plt.colorbar(scatter, ticks=range(10))\n",
    "        plt.title(\"潜在空間 (μ) の散布図\")\n",
    "        plt.xlabel(\"z1\")\n",
    "        plt.ylabel(\"z2\")\n",
    "        plt.grid(True)\n",
    "        plt.show()"
   ]
  },
  {
   "cell_type": "markdown",
   "id": "084ad953",
   "metadata": {},
   "source": [
    "## 6. 軽い拡張タスク\n",
    "`latent_dim` を {2, 10, 20} で変えて比較するなど、追加実験を効率化するヘルパーを用意しました。時間に余裕があるときに実行してください。"
   ]
  },
  {
   "cell_type": "code",
   "execution_count": null,
   "id": "d4d1d85f",
   "metadata": {},
   "outputs": [],
   "source": [
    "def sweep_latent_dims(base_config: dict, latent_dims=(2, 10, 20)):\n",
    "    results = []\n",
    "    for lat in latent_dims:\n",
    "        cfg = deepcopy(base_config)\n",
    "        cfg[\"latent_dim\"] = lat\n",
    "        cfg[\"name\"] = f\"lat{lat}\"\n",
    "        meta = run_training(cfg)\n",
    "        results.append((lat, meta[\"run_dir\"]))\n",
    "    return results\n",
    "\n",
    "# 例: 実行する場合は以下のコメントを外してください (合計時間に注意)\n",
    "# sweep_results = sweep_latent_dims(TRAINING_CONFIG)\n",
    "# sweep_results"
   ]
  },
  {
   "cell_type": "markdown",
   "id": "275f058c",
   "metadata": {},
   "source": [
    "## 7. 次のステップ\n",
    "- Hydra や YAML でハイパーパラメータを外部管理する\n",
    "- `reports/` に保存された画像やログを README や HuggingFace Spaces で共有する\n",
    "- 理論面で気になる式を論文と突き合わせる\n",
    "\n",
    "このノートブックを使えば、短期目標リストを上から順に実行しながら結果を蓄積できます。必要に応じてセルを複製し、追加の記録メモを挿入してください。"
   ]
  }
 ],
 "metadata": {
  "kernelspec": {
   "display_name": "vae",
   "language": "python",
   "name": "python3"
  },
  "language_info": {
   "codemirror_mode": {
    "name": "ipython",
    "version": 3
   },
   "file_extension": ".py",
   "mimetype": "text/x-python",
   "name": "python",
   "nbconvert_exporter": "python",
   "pygments_lexer": "ipython3",
   "version": "3.11.13"
  }
 },
 "nbformat": 4,
 "nbformat_minor": 5
}
